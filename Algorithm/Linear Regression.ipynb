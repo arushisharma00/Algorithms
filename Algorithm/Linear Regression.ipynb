{
 "cells": [
  {
   "cell_type": "code",
   "execution_count": 1,
   "metadata": {},
   "outputs": [],
   "source": [
    "import pandas as pd\n",
    "import numpy as np\n",
    "import matplotlib.pyplot as plt\n",
    "import seaborn as sns\n"
   ]
  },
  {
   "cell_type": "code",
   "execution_count": 2,
   "metadata": {},
   "outputs": [
    {
     "name": "stdout",
     "output_type": "stream",
     "text": [
      "(99, 1)\n",
      "(99,)\n",
      "(99, 1)\n",
      "(99,)\n"
     ]
    }
   ],
   "source": [
    "# READ DATA\n",
    "\n",
    "def readData(filename):\n",
    "    df= pd.read_csv(filename)\n",
    "    return df.values\n",
    "\n",
    "x= readData('C:/Users/RAJAT/Desktop/Projects/X.csv')\n",
    "print(x.shape) #change 2D to 1D\n",
    "#Contains 1 row\n",
    "x=x.reshape((99,))\n",
    "print(x.shape)\n",
    "y= readData('C:/Users/RAJAT/Desktop/Projects/Y.csv')\n",
    "print(y.shape)\n",
    "y=y.reshape((99,))\n",
    "print(y.shape)\n",
    "\n",
    "\n"
   ]
  },
  {
   "cell_type": "code",
   "execution_count": 3,
   "metadata": {},
   "outputs": [
    {
     "data": {
      "image/png": "[encoded data removed]",
      "text/plain": [
       "<Figure size 432x288 with 1 Axes>"
      ]
     },
     "metadata": {
      "needs_background": "light"
     },
     "output_type": "display_data"
    }
   ],
   "source": [
    "X=(x-x.mean())/(x.std()) #Normalization\n",
    "Y= y\n",
    "plt.scatter(X,Y) \n",
    "plt.xlabel('X')\n",
    "plt.ylabel('Y')\n",
    "plt.show()"
   ]
  },
  {
   "cell_type": "code",
   "execution_count": 26,
   "metadata": {},
   "outputs": [],
   "source": [
    "### Linear Regression\n"
   ]
  },
  {
   "cell_type": "code",
   "execution_count": 30,
   "metadata": {},
   "outputs": [
    {
     "name": "stdout",
     "output_type": "stream",
     "text": [
      "99\n"
     ]
    }
   ],
   "source": [
    "m=X.shape[0]\n",
    "print(m)\n",
    "\n"
   ]
  },
  {
   "cell_type": "code",
   "execution_count": 39,
   "metadata": {},
   "outputs": [],
   "source": [
    "#model for best fit line\n",
    "def hypothesis(x,theta):\n",
    "    return theta[0]+theta[1]*x\n",
    "\n",
    "# COST FUNCTION\n",
    "def error(X,Y,theta): #X,Y actual values\n",
    "    error=0\n",
    "    m=X.shape[0] \n",
    "    for i in range(m):\n",
    "        hx=hypothesis(X[i],theta)\n",
    "        error +=  (hx-Y[i])**2\n",
    "     \n",
    "    return 0.5*error\n",
    "def gradient(X,Y,theta):\n",
    "    grad= np.array([0.0,0.0])\n",
    "    m=X.shape[0]\n",
    "    for i in range(m):\n",
    "        hx=hypothesis(X[i],theta)\n",
    "        grad[0]+= (hx-Y[i])\n",
    "        grad[1]+= (hx-y[i])*X[i]\n",
    "    return grad\n",
    "        \n",
    "\n",
    "\n",
    "def gradientDescent(X,Y,learning_rate=0.001):\n",
    "    \n",
    "    grad= np.array([0.0,0.0])\n",
    "    theta=np.array([0.0,0.0])\n",
    "    \n",
    "    itr=0\n",
    "    max_itr=100\n",
    "    error_list= []\n",
    "    \n",
    "    while(itr<=max_itr):\n",
    "        grad= gradient(X,Y,theta) #value of gradient\n",
    "        e= error(X,Y,theta)\n",
    "        error_list.append(e)\n",
    "        \n",
    "        theta[0]= theta[0]-learning_rate*grad[0]\n",
    "        theta[1]=theta[1]-learning_rate*grad[1]\n",
    "        itr+=1\n",
    "    return theta,error_list,grad\n",
    "\n",
    "\n",
    "\n",
    "\n"
   ]
  },
  {
   "cell_type": "code",
   "execution_count": 40,
   "metadata": {},
   "outputs": [
    {
     "data": {
      "text/plain": [
       "[<matplotlib.lines.Line2D at 0x22a540ae9b0>]"
      ]
     },
     "execution_count": 40,
     "metadata": {},
     "output_type": "execute_result"
    },
    {
     "data": {
      "image/png": "[encoded data removed]",
      "text/plain": [
       "<Figure size 432x288 with 1 Axes>"
      ]
     },
     "metadata": {
      "needs_background": "light"
     },
     "output_type": "display_data"
    }
   ],
   "source": [
    "final_theta,error_list,grad= gradientDescent(X,Y)\n",
    "plt.plot(error_list)\n",
    "\n"
   ]
  },
  {
   "cell_type": "code",
   "execution_count": 36,
   "metadata": {},
   "outputs": [
    {
     "name": "stdout",
     "output_type": "stream",
     "text": [
      "[0.99660749 0.0013579 ]\n"
     ]
    }
   ],
   "source": [
    "print(final_theta)"
   ]
  },
  {
   "cell_type": "code",
   "execution_count": null,
   "metadata": {},
   "outputs": [],
   "source": []
  },
  {
   "cell_type": "code",
   "execution_count": 47,
   "metadata": {},
   "outputs": [],
   "source": [
    "xtest= np.linspace(-2,6,10)\n"
   ]
  },
  {
   "cell_type": "code",
   "execution_count": 48,
   "metadata": {},
   "outputs": [
    {
     "data": {
      "text/plain": [
       "[<matplotlib.lines.Line2D at 0x22a54093128>]"
      ]
     },
     "execution_count": 48,
     "metadata": {},
     "output_type": "execute_result"
    },
    {
     "data": {
      "image/png": "[encoded data removed]",
      "text/plain": [
       "<Figure size 432x288 with 1 Axes>"
      ]
     },
     "metadata": {
      "needs_background": "light"
     },
     "output_type": "display_data"
    }
   ],
   "source": [
    "plt.scatter(X,Y)\n",
    "plt.plot(xtest,hypothesis(xtest,final_theta),color='red')"
   ]
  },
  {
   "cell_type": "code",
   "execution_count": null,
   "metadata": {},
   "outputs": [],
   "source": []
  }
 ],
 "metadata": {
  "kernelspec": {
   "display_name": "Python 3",
   "language": "python",
   "name": "python3"
  },
  "language_info": {
   "codemirror_mode": {
    "name": "ipython",
    "version": 3
   },
   "file_extension": ".py",
   "mimetype": "text/x-python",
   "name": "python",
   "nbconvert_exporter": "python",
   "pygments_lexer": "ipython3",
   "version": "3.6.4"
  }
 },
 "nbformat": 4,
 "nbformat_minor": 4
}
