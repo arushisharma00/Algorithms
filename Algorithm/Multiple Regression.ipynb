{
 "cells": [
  {
   "cell_type": "code",
   "execution_count": 14,
   "metadata": {},
   "outputs": [
    {
     "name": "stdout",
     "output_type": "stream",
     "text": [
      "dict_keys(['data', 'target', 'feature_names', 'DESCR'])\n"
     ]
    }
   ],
   "source": [
    "from sklearn.datasets import load_boston\n",
    "from sklearn.linear_model import LinearRegression\n",
    "import matplotlib.pyplot as plt\n",
    "from sklearn.model_selection import train_test_split\n",
    "import pandas as pd\n",
    "\n",
    "boston=load_boston()\n",
    "\n",
    "print(boston.keys())\n"
   ]
  },
  {
   "cell_type": "code",
   "execution_count": 19,
   "metadata": {},
   "outputs": [
    {
     "name": "stdout",
     "output_type": "stream",
     "text": [
      "(102, 13)\n",
      "(404, 13)\n",
      "(102,)\n",
      "(404,)\n"
     ]
    }
   ],
   "source": [
    "X=boston.data\n",
    "Y=boston.target\n",
    "X_train,X_test,Y_train,Y_test= train_test_split(X,Y,test_size=0.2)\n",
    "\n",
    "\n",
    "print(X_test.shape)\n",
    "print(X_train.shape)\n",
    "print(Y_test.shape)\n",
    "print(Y_train.shape)"
   ]
  },
  {
   "cell_type": "code",
   "execution_count": 20,
   "metadata": {},
   "outputs": [
    {
     "name": "stdout",
     "output_type": "stream",
     "text": [
      "[-1.17298328e-01  6.83532254e-02  1.04131954e-02  2.80227626e+00\n",
      " -1.55357563e+01  3.58078239e+00  6.07651892e-03 -1.59994800e+00\n",
      "  3.32527905e-01 -1.28531536e-02 -9.47641605e-01  1.13099537e-02\n",
      " -5.80033519e-01]\n",
      "36.65908376373146\n"
     ]
    }
   ],
   "source": [
    "#Model\n",
    "lr= LinearRegression(normalize=True)\n",
    "lr.fit(X_train,Y_train)\n",
    "print(lr.coef_)\n",
    "print(lr.intercept_)"
   ]
  },
  {
   "cell_type": "code",
   "execution_count": 24,
   "metadata": {},
   "outputs": [
    {
     "name": "stdout",
     "output_type": "stream",
     "text": [
      "Testing Score: 0.6163458335789362\n",
      "Training Score: 0.7561417510881785\n"
     ]
    }
   ],
   "source": [
    "#accuracy / testing\n",
    "print(\"Testing Score:\",lr.score(X_test,Y_test))\n",
    "print(\"Training Score:\",lr.score(X_train,Y_train))"
   ]
  },
  {
   "cell_type": "code",
   "execution_count": 32,
   "metadata": {},
   "outputs": [
    {
     "name": "stdout",
     "output_type": "stream",
     "text": [
      "[0.36859026 0.78725032 0.76768106 0.83874195 0.68930188 0.55087898\n",
      " 0.70524878 0.82190477 0.79435642 0.88437574]\n",
      "0.7208330161151615\n"
     ]
    }
   ],
   "source": [
    "#Cross Validation\n",
    "from sklearn.model_selection import cross_val_score\n",
    "scores= cross_val_score(lr,X_train,Y_train,cv=10,scoring='r2')\n",
    "print(scores)\n",
    "print(scores.mean())"
   ]
  },
  {
   "cell_type": "code",
   "execution_count": null,
   "metadata": {},
   "outputs": [],
   "source": []
  }
 ],
 "metadata": {
  "kernelspec": {
   "display_name": "Python 3",
   "language": "python",
   "name": "python3"
  },
  "language_info": {
   "codemirror_mode": {
    "name": "ipython",
    "version": 3
   },
   "file_extension": ".py",
   "mimetype": "text/x-python",
   "name": "python",
   "nbconvert_exporter": "python",
   "pygments_lexer": "ipython3",
   "version": "3.6.4"
  }
 },
 "nbformat": 4,
 "nbformat_minor": 4
}
